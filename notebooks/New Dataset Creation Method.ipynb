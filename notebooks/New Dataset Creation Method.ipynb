{
 "cells": [
  {
   "cell_type": "code",
   "execution_count": 1,
   "metadata": {},
   "outputs": [],
   "source": [
    "# Necessary libraries\n",
    "import numpy as np\n",
    "import pandas as pd\n",
    "import matplotlib.pyplot as plt\n",
    "\n",
    "# Package for processing EDF++ files\n",
    "import mne\n",
    "\n",
    "# Libraries for machine learning via sklearn:\n",
    "from sklearn.model_selection import train_test_split\n",
    "from sklearn.svm import SVC"
   ]
  },
  {
   "cell_type": "markdown",
   "metadata": {},
   "source": [
    "<h2>Importing The Raw EEG recording</h2>"
   ]
  },
  {
   "cell_type": "code",
   "execution_count": 2,
   "metadata": {
    "scrolled": true
   },
   "outputs": [
    {
     "name": "stderr",
     "output_type": "stream",
     "text": [
      "<ipython-input-2-7b130628d48a>:10: RuntimeWarning: 2 channel names are too long, have been truncated to 15 characters:\n",
      "['EOG Lower Vertic', 'EOG Upper Vertic']\n",
      "  raw = mne.io.read_raw_edf(raw_file, preload=False, verbose=False)\n"
     ]
    },
    {
     "name": "stdout",
     "output_type": "stream",
     "text": [
      "Used Annotations descriptions: ['Sleep stage 1', 'Sleep stage 2', 'Sleep stage 3', 'Sleep stage 4', 'Sleep stage ?', 'Sleep stage R', 'Sleep stage W']\n",
      "1419 matching events found\n",
      "No baseline correction applied\n",
      "Not setting metadata\n",
      "0 projection items activated\n",
      "Loading data for 1419 events and 5121 original time points ...\n",
      "0 bad epochs dropped\n",
      "Converting \"time\" to \"<class 'numpy.int64'>\"...\n"
     ]
    }
   ],
   "source": [
    "# Necessary file names ready to go:\n",
    "path = r\"C:\\Users\\Jason Ha\\Documents\\University\\4th Year\\Thesis Project (Repo)\\Jupyter Notebooks\\Active Projects\\mass_data\\01-02-0001_PSG\"\n",
    "file = r\"01-02-0001_PSG.edf\"\n",
    "scorer_annot_1 = r\"01-02-0001_Annotations.csv\"\n",
    "scorer_annot_2 = r\"01-02-0001_Annotations2.csv\"\n",
    "sleep_stages_filename = r\"01-02-0001_Stages.edf\"\n",
    "\n",
    "# Load raw MNE file. Preload = False (Save hard drive memory):\n",
    "raw_file = path + \"\\\\\" + file\n",
    "raw = mne.io.read_raw_edf(raw_file, preload=False, verbose=False)\n",
    "\n",
    "# Load annotations per the sleep stage EDF file into workspace\n",
    "sleep_stages_file = path + \"\\\\\" + sleep_stages_filename\n",
    "stages = mne.read_annotations(sleep_stages_file)\n",
    "\n",
    "# Set the annotations onto the raw file:\n",
    "raw.set_annotations(stages)\n",
    "\n",
    "# Perform preliminary bandpass filtering on the entire signal in 11-16 Hz:\n",
    "raw = raw.load_data().filter(11.0, 16.0, fir_window='hann', fir_design='firwin')\n",
    "\n",
    "# Get the event and event_id from the annotations:\n",
    "event, event_id = mne.events_from_annotations(raw)\n",
    "\n",
    "# Create epochs from the event and event_id\n",
    "epochs = mne.Epochs(raw, event, event_id, tmin=0.0, tmax=20, baseline=None) # 20 second epochs (based off stage annotations)\n",
    "\n",
    "# Create dataframe from epochs\n",
    "epochs_df = epochs.to_data_frame()"
   ]
  },
  {
   "cell_type": "code",
   "execution_count": 10,
   "metadata": {},
   "outputs": [
    {
     "data": {
      "text/plain": [
       "256.0163850486431"
      ]
     },
     "execution_count": 10,
     "metadata": {},
     "output_type": "execute_result"
    }
   ],
   "source": [
    "raw.info['sfreq']"
   ]
  },
  {
   "cell_type": "markdown",
   "metadata": {},
   "source": [
    "<h2>Converting Epochs To DataFrame</h2>\n",
    "\n",
    "The annotations have allowed the each channel of the PSG recording to be divided into epochs based on the onset of each sleep stage (provided with each patient) data. The dataframe contains  related to EEG as well as EOG, EMG, Blood oxygen etc. Specifically, we want the EEG C3-LER channel as the spindles came from this channel. "
   ]
  },
  {
   "cell_type": "code",
   "execution_count": 3,
   "metadata": {
    "scrolled": true
   },
   "outputs": [
    {
     "data": {
      "text/html": [
       "<div>\n",
       "<style scoped>\n",
       "    .dataframe tbody tr th:only-of-type {\n",
       "        vertical-align: middle;\n",
       "    }\n",
       "\n",
       "    .dataframe tbody tr th {\n",
       "        vertical-align: top;\n",
       "    }\n",
       "\n",
       "    .dataframe thead th {\n",
       "        text-align: right;\n",
       "    }\n",
       "</style>\n",
       "<table border=\"1\" class=\"dataframe\">\n",
       "  <thead>\n",
       "    <tr style=\"text-align: right;\">\n",
       "      <th></th>\n",
       "      <th></th>\n",
       "      <th>channel</th>\n",
       "      <th>EOG Right Horiz</th>\n",
       "      <th>Resp nasal</th>\n",
       "      <th>EEG Pz-LER</th>\n",
       "      <th>EEG Fp1-LER</th>\n",
       "      <th>EMG Chin</th>\n",
       "      <th>EEG Fpz-LER</th>\n",
       "      <th>EEG Cz-LER</th>\n",
       "      <th>EEG O1-LER</th>\n",
       "      <th>EEG C4-LER</th>\n",
       "      <th>EEG F3-LER</th>\n",
       "      <th>...</th>\n",
       "      <th>EEG F8-LER</th>\n",
       "      <th>EOG Upper Verti</th>\n",
       "      <th>EEG T6-LER</th>\n",
       "      <th>EEG T4-LER</th>\n",
       "      <th>EEG F7-LER</th>\n",
       "      <th>EEG P3-LER</th>\n",
       "      <th>ECG I</th>\n",
       "      <th>EEG A2-LER</th>\n",
       "      <th>EEG F4-LER</th>\n",
       "      <th>EEG T3-LER</th>\n",
       "    </tr>\n",
       "    <tr>\n",
       "      <th>condition</th>\n",
       "      <th>epoch</th>\n",
       "      <th>time</th>\n",
       "      <th></th>\n",
       "      <th></th>\n",
       "      <th></th>\n",
       "      <th></th>\n",
       "      <th></th>\n",
       "      <th></th>\n",
       "      <th></th>\n",
       "      <th></th>\n",
       "      <th></th>\n",
       "      <th></th>\n",
       "      <th></th>\n",
       "      <th></th>\n",
       "      <th></th>\n",
       "      <th></th>\n",
       "      <th></th>\n",
       "      <th></th>\n",
       "      <th></th>\n",
       "      <th></th>\n",
       "      <th></th>\n",
       "      <th></th>\n",
       "      <th></th>\n",
       "    </tr>\n",
       "  </thead>\n",
       "  <tbody>\n",
       "    <tr>\n",
       "      <td rowspan=\"5\" valign=\"top\">Sleep stage ?</td>\n",
       "      <td rowspan=\"5\" valign=\"top\">0</td>\n",
       "      <td>0</td>\n",
       "      <td>4.683698</td>\n",
       "      <td>0.627158</td>\n",
       "      <td>12.265569</td>\n",
       "      <td>5.271530</td>\n",
       "      <td>3.118674</td>\n",
       "      <td>5.304243</td>\n",
       "      <td>4.871029</td>\n",
       "      <td>-0.677967</td>\n",
       "      <td>2.923376</td>\n",
       "      <td>5.277497</td>\n",
       "      <td>...</td>\n",
       "      <td>3.540641</td>\n",
       "      <td>2.235578</td>\n",
       "      <td>0.854104</td>\n",
       "      <td>2.527208</td>\n",
       "      <td>3.705303</td>\n",
       "      <td>1.211671</td>\n",
       "      <td>9.756096</td>\n",
       "      <td>-0.576205</td>\n",
       "      <td>4.034499</td>\n",
       "      <td>1.902730</td>\n",
       "    </tr>\n",
       "    <tr>\n",
       "      <td>4</td>\n",
       "      <td>3.864176</td>\n",
       "      <td>0.687507</td>\n",
       "      <td>9.594047</td>\n",
       "      <td>4.613539</td>\n",
       "      <td>4.148112</td>\n",
       "      <td>4.444753</td>\n",
       "      <td>3.707615</td>\n",
       "      <td>-2.182299</td>\n",
       "      <td>2.020055</td>\n",
       "      <td>4.448492</td>\n",
       "      <td>...</td>\n",
       "      <td>2.915794</td>\n",
       "      <td>2.296070</td>\n",
       "      <td>0.740209</td>\n",
       "      <td>2.298781</td>\n",
       "      <td>2.878589</td>\n",
       "      <td>0.486242</td>\n",
       "      <td>9.594532</td>\n",
       "      <td>0.515864</td>\n",
       "      <td>3.037069</td>\n",
       "      <td>1.242841</td>\n",
       "    </tr>\n",
       "    <tr>\n",
       "      <td>8</td>\n",
       "      <td>2.719235</td>\n",
       "      <td>0.690341</td>\n",
       "      <td>6.296220</td>\n",
       "      <td>3.540250</td>\n",
       "      <td>4.601766</td>\n",
       "      <td>3.204895</td>\n",
       "      <td>2.240140</td>\n",
       "      <td>-3.554960</td>\n",
       "      <td>0.997406</td>\n",
       "      <td>3.238044</td>\n",
       "      <td>...</td>\n",
       "      <td>2.040634</td>\n",
       "      <td>2.046000</td>\n",
       "      <td>0.544126</td>\n",
       "      <td>1.830172</td>\n",
       "      <td>1.825049</td>\n",
       "      <td>-0.306514</td>\n",
       "      <td>8.462559</td>\n",
       "      <td>1.511362</td>\n",
       "      <td>1.802408</td>\n",
       "      <td>0.491379</td>\n",
       "    </tr>\n",
       "    <tr>\n",
       "      <td>12</td>\n",
       "      <td>1.364900</td>\n",
       "      <td>0.634803</td>\n",
       "      <td>2.877359</td>\n",
       "      <td>2.152918</td>\n",
       "      <td>4.431217</td>\n",
       "      <td>1.702691</td>\n",
       "      <td>0.610936</td>\n",
       "      <td>-4.631938</td>\n",
       "      <td>-0.043724</td>\n",
       "      <td>1.751150</td>\n",
       "      <td>...</td>\n",
       "      <td>1.012068</td>\n",
       "      <td>1.573807</td>\n",
       "      <td>0.307507</td>\n",
       "      <td>1.184219</td>\n",
       "      <td>0.641209</td>\n",
       "      <td>-1.082784</td>\n",
       "      <td>6.681436</td>\n",
       "      <td>2.284702</td>\n",
       "      <td>0.456082</td>\n",
       "      <td>-0.273916</td>\n",
       "    </tr>\n",
       "    <tr>\n",
       "      <td>16</td>\n",
       "      <td>-0.064913</td>\n",
       "      <td>0.528085</td>\n",
       "      <td>-0.210787</td>\n",
       "      <td>0.582579</td>\n",
       "      <td>3.678852</td>\n",
       "      <td>0.078547</td>\n",
       "      <td>-1.027673</td>\n",
       "      <td>-5.272941</td>\n",
       "      <td>-1.010617</td>\n",
       "      <td>0.117380</td>\n",
       "      <td>...</td>\n",
       "      <td>-0.062198</td>\n",
       "      <td>1.006911</td>\n",
       "      <td>0.076562</td>\n",
       "      <td>0.443692</td>\n",
       "      <td>-0.569329</td>\n",
       "      <td>-1.755891</td>\n",
       "      <td>4.657876</td>\n",
       "      <td>2.752169</td>\n",
       "      <td>-0.872951</td>\n",
       "      <td>-0.977594</td>\n",
       "    </tr>\n",
       "  </tbody>\n",
       "</table>\n",
       "<p>5 rows × 27 columns</p>\n",
       "</div>"
      ],
      "text/plain": [
       "channel                   EOG Right Horiz  Resp nasal  EEG Pz-LER  \\\n",
       "condition     epoch time                                            \n",
       "Sleep stage ? 0     0            4.683698    0.627158   12.265569   \n",
       "                    4            3.864176    0.687507    9.594047   \n",
       "                    8            2.719235    0.690341    6.296220   \n",
       "                    12           1.364900    0.634803    2.877359   \n",
       "                    16          -0.064913    0.528085   -0.210787   \n",
       "\n",
       "channel                   EEG Fp1-LER  EMG Chin  EEG Fpz-LER  EEG Cz-LER  \\\n",
       "condition     epoch time                                                   \n",
       "Sleep stage ? 0     0        5.271530  3.118674     5.304243    4.871029   \n",
       "                    4        4.613539  4.148112     4.444753    3.707615   \n",
       "                    8        3.540250  4.601766     3.204895    2.240140   \n",
       "                    12       2.152918  4.431217     1.702691    0.610936   \n",
       "                    16       0.582579  3.678852     0.078547   -1.027673   \n",
       "\n",
       "channel                   EEG O1-LER  EEG C4-LER  EEG F3-LER  ...  EEG F8-LER  \\\n",
       "condition     epoch time                                      ...               \n",
       "Sleep stage ? 0     0      -0.677967    2.923376    5.277497  ...    3.540641   \n",
       "                    4      -2.182299    2.020055    4.448492  ...    2.915794   \n",
       "                    8      -3.554960    0.997406    3.238044  ...    2.040634   \n",
       "                    12     -4.631938   -0.043724    1.751150  ...    1.012068   \n",
       "                    16     -5.272941   -1.010617    0.117380  ...   -0.062198   \n",
       "\n",
       "channel                   EOG Upper Verti  EEG T6-LER  EEG T4-LER  EEG F7-LER  \\\n",
       "condition     epoch time                                                        \n",
       "Sleep stage ? 0     0            2.235578    0.854104    2.527208    3.705303   \n",
       "                    4            2.296070    0.740209    2.298781    2.878589   \n",
       "                    8            2.046000    0.544126    1.830172    1.825049   \n",
       "                    12           1.573807    0.307507    1.184219    0.641209   \n",
       "                    16           1.006911    0.076562    0.443692   -0.569329   \n",
       "\n",
       "channel                   EEG P3-LER     ECG I  EEG A2-LER  EEG F4-LER  \\\n",
       "condition     epoch time                                                 \n",
       "Sleep stage ? 0     0       1.211671  9.756096   -0.576205    4.034499   \n",
       "                    4       0.486242  9.594532    0.515864    3.037069   \n",
       "                    8      -0.306514  8.462559    1.511362    1.802408   \n",
       "                    12     -1.082784  6.681436    2.284702    0.456082   \n",
       "                    16     -1.755891  4.657876    2.752169   -0.872951   \n",
       "\n",
       "channel                   EEG T3-LER  \n",
       "condition     epoch time              \n",
       "Sleep stage ? 0     0       1.902730  \n",
       "                    4       1.242841  \n",
       "                    8       0.491379  \n",
       "                    12     -0.273916  \n",
       "                    16     -0.977594  \n",
       "\n",
       "[5 rows x 27 columns]"
      ]
     },
     "execution_count": 3,
     "metadata": {},
     "output_type": "execute_result"
    }
   ],
   "source": [
    "epochs_df.head()"
   ]
  },
  {
   "cell_type": "markdown",
   "metadata": {},
   "source": [
    "Pulling out the EEG C3-LER channel and epochs strictly in sleep stage 2 (N2)"
   ]
  },
  {
   "cell_type": "code",
   "execution_count": 4,
   "metadata": {},
   "outputs": [
    {
     "data": {
      "text/html": [
       "<div>\n",
       "<style scoped>\n",
       "    .dataframe tbody tr th:only-of-type {\n",
       "        vertical-align: middle;\n",
       "    }\n",
       "\n",
       "    .dataframe tbody tr th {\n",
       "        vertical-align: top;\n",
       "    }\n",
       "\n",
       "    .dataframe thead th {\n",
       "        text-align: right;\n",
       "    }\n",
       "</style>\n",
       "<table border=\"1\" class=\"dataframe\">\n",
       "  <thead>\n",
       "    <tr style=\"text-align: right;\">\n",
       "      <th></th>\n",
       "      <th>channel</th>\n",
       "      <th>EEG C3-LER</th>\n",
       "    </tr>\n",
       "    <tr>\n",
       "      <th>epoch</th>\n",
       "      <th>time</th>\n",
       "      <th></th>\n",
       "    </tr>\n",
       "  </thead>\n",
       "  <tbody>\n",
       "    <tr>\n",
       "      <td rowspan=\"5\" valign=\"top\">13</td>\n",
       "      <td>0</td>\n",
       "      <td>-2.081539</td>\n",
       "    </tr>\n",
       "    <tr>\n",
       "      <td>4</td>\n",
       "      <td>-1.879385</td>\n",
       "    </tr>\n",
       "    <tr>\n",
       "      <td>8</td>\n",
       "      <td>-1.420351</td>\n",
       "    </tr>\n",
       "    <tr>\n",
       "      <td>12</td>\n",
       "      <td>-0.752049</td>\n",
       "    </tr>\n",
       "    <tr>\n",
       "      <td>16</td>\n",
       "      <td>0.046796</td>\n",
       "    </tr>\n",
       "    <tr>\n",
       "      <td>...</td>\n",
       "      <td>...</td>\n",
       "      <td>...</td>\n",
       "    </tr>\n",
       "    <tr>\n",
       "      <td rowspan=\"5\" valign=\"top\">1409</td>\n",
       "      <td>19983</td>\n",
       "      <td>-2.112514</td>\n",
       "    </tr>\n",
       "    <tr>\n",
       "      <td>19987</td>\n",
       "      <td>-1.846403</td>\n",
       "    </tr>\n",
       "    <tr>\n",
       "      <td>19991</td>\n",
       "      <td>-1.375927</td>\n",
       "    </tr>\n",
       "    <tr>\n",
       "      <td>19995</td>\n",
       "      <td>-0.765505</td>\n",
       "    </tr>\n",
       "    <tr>\n",
       "      <td>19999</td>\n",
       "      <td>-0.096736</td>\n",
       "    </tr>\n",
       "  </tbody>\n",
       "</table>\n",
       "<p>3815145 rows × 1 columns</p>\n",
       "</div>"
      ],
      "text/plain": [
       "channel      EEG C3-LER\n",
       "epoch time             \n",
       "13    0       -2.081539\n",
       "      4       -1.879385\n",
       "      8       -1.420351\n",
       "      12      -0.752049\n",
       "      16       0.046796\n",
       "...                 ...\n",
       "1409  19983   -2.112514\n",
       "      19987   -1.846403\n",
       "      19991   -1.375927\n",
       "      19995   -0.765505\n",
       "      19999   -0.096736\n",
       "\n",
       "[3815145 rows x 1 columns]"
      ]
     },
     "execution_count": 4,
     "metadata": {},
     "output_type": "execute_result"
    }
   ],
   "source": [
    "eeg_epochs_df = epochs_df[['EEG C3-LER']]\n",
    "eeg_epochs = eeg_epochs_df.loc[\"Sleep stage 2\", :]\n",
    "eeg_epochs"
   ]
  },
  {
   "cell_type": "code",
   "execution_count": 5,
   "metadata": {},
   "outputs": [
    {
     "data": {
      "text/plain": [
       "array([(13, 0), (13, 4), (13, 8), ..., (1409, 19991), (1409, 19995),\n",
       "       (1409, 19999)], dtype=object)"
      ]
     },
     "execution_count": 5,
     "metadata": {},
     "output_type": "execute_result"
    }
   ],
   "source": [
    "eeg_epochs.index.values"
   ]
  },
  {
   "cell_type": "markdown",
   "metadata": {},
   "source": [
    "Since each epoch is 20 seconds long, we can multiply the epoch number by the duration of the epoch (20 seconds) to get the actual time (in seconds) in the EEG reading we are observing. We can use this later on when we want to compare the epoch and frame we are currently sampling and matching it to the ground truth annotations."
   ]
  },
  {
   "cell_type": "markdown",
   "metadata": {},
   "source": [
    "<h1>Visualising An Epoch (20 second duration)</h1>"
   ]
  },
  {
   "cell_type": "markdown",
   "metadata": {},
   "source": [
    "First step is to get a list of the unique epochs in the dataframe we are working with. This way, we can just access the epochs based on index rather than the actual epoch number."
   ]
  },
  {
   "cell_type": "code",
   "execution_count": 6,
   "metadata": {},
   "outputs": [],
   "source": [
    "# Get all the unique epochs from the dataframe:\n",
    "temp = epochs_df.reset_index(drop=False)\n",
    "tmp = temp[temp['condition'] == 'Sleep stage 2']\n",
    "epoch_list = tmp['epoch'].unique()"
   ]
  },
  {
   "cell_type": "markdown",
   "metadata": {},
   "source": [
    "The total number of epochs in the dataframe we are considering is:"
   ]
  },
  {
   "cell_type": "markdown",
   "metadata": {},
   "source": [
    "We pull out a single epoch as an example for this mock procedure. In this case, we pick an epoch which we know will contain spindle annotations. However, the script will automatically scan through each epoch one-by-one in order to determine the epochs that contain the annotations."
   ]
  },
  {
   "cell_type": "code",
   "execution_count": 7,
   "metadata": {},
   "outputs": [
    {
     "data": {
      "image/png": "[encoded data removed]",
      "text/plain": [
       "<Figure size 864x432 with 1 Axes>"
      ]
     },
     "metadata": {
      "needs_background": "light"
     },
     "output_type": "display_data"
    }
   ],
   "source": [
    "epoch = epoch_list[51]\n",
    "example = eeg_epochs.loc[epoch]\n",
    "signal = example['EEG C3-LER']\n",
    "\n",
    "# Make time axis reflect the true time-value it was extracted from (from full EEG recording)\n",
    "time = example.index.values / 1000\n",
    "time = time + (epoch * 20)\n",
    "\n",
    "fig = plt.figure(figsize=(12,6))\n",
    "plt.plot(time, signal)\n",
    "plt.show()"
   ]
  },
  {
   "cell_type": "code",
   "execution_count": 8,
   "metadata": {},
   "outputs": [
    {
     "data": {
      "text/plain": [
       "time\n",
       "0       -0.875636\n",
       "4       -2.182799\n",
       "8       -3.247977\n",
       "12      -4.054878\n",
       "16      -4.612283\n",
       "           ...   \n",
       "19983   -0.280018\n",
       "19987    2.677003\n",
       "19991    5.423508\n",
       "19995    7.627978\n",
       "19999    9.011707\n",
       "Name: EEG C3-LER, Length: 5121, dtype: float64"
      ]
     },
     "execution_count": 8,
     "metadata": {},
     "output_type": "execute_result"
    }
   ],
   "source": [
    "signal.interpolate(method='time').fillna(0)"
   ]
  },
  {
   "cell_type": "code",
   "execution_count": 11,
   "metadata": {},
   "outputs": [],
   "source": [
    "from scipy.signal import butter, lfilter, firwin, filtfilt\n",
    "from scipy.signal.windows import hann\n",
    "\n",
    "def butter_bandpass(lowcut, highcut, fs, order = 5):\n",
    "\tnyq = 0.5 * fs\n",
    "\tlow = lowcut / nyq\n",
    "\thigh = highcut / nyq\n",
    "\tb,a = butter(order, [low, high], btype='band', output='ba')\n",
    "\treturn b,a\n",
    "\n",
    "def butter_bandpass_filter(data, lowcut, highcut, fs, order=5):\n",
    "\tb,a = butter_bandpass(lowcut, highcut, fs, order=order)\n",
    "\ty = filtfilt(b, a, data, padlen=25)\n",
    "\treturn y\n",
    "\n",
    "sampling_rate = raw.info['sfreq']\n",
    "filtered= butter_bandpass_filter(signal, 11.0, 16.0, sampling_rate, order=5)\n",
    "delta = butter_bandpass_filter(signal, 0.5, 4.0, sampling_rate, order=5)\n",
    "beta = butter_bandpass_filter(signal, 12.5, 30.0, sampling_rate, order=5)"
   ]
  },
  {
   "cell_type": "markdown",
   "metadata": {},
   "source": [
    "<h1>Visualising A Frame (0.5-2.0 seconds duration)</h1>\n",
    "\n",
    "Since spindles are defined to have durations from 0.5-2.0 second duration, we pull a 2.0 second frame from the epoch. From that frame, we compute the power spectral density to see if we have a high peak at the required 11-16 Hz spindle band. If the spindle power is below the threshold, we would label the spindle as a NON-SPINDLE (0). However, if it passes the threshold, we label it as a spindle. When we want to move to the next frame, we should have a 1.0 second overlap. This is equivalent to simply shifting the indices by 250 each iteration until we reach the end of the epoch."
   ]
  },
  {
   "cell_type": "markdown",
   "metadata": {},
   "source": [
    "<h3>Frame 1</h3>"
   ]
  },
  {
   "cell_type": "code",
   "execution_count": 25,
   "metadata": {},
   "outputs": [],
   "source": [
    "# Set parameters for window length (Tw) and stride. These parameters should be tuneable by the user.\n",
    "Tw = 1.0     # (1.0 second window length)\n",
    "stride = 0.5 # (Half a second overlap)\n",
    "\n",
    "# Compute the frame length based on time-vector from dataframe. Since MNE creates a timestep of 4ms, the frame length\n",
    "# in samples is (Tw * 1000) / 4. The 1000 is the convert to milliseconds and the divide by 4 converts the time to\n",
    "# upper array index for the time and signal array.\n",
    "frame_len = int(Tw * 1000 / 4)\n",
    "shift = int(stride * 1000 / 4)"
   ]
  },
  {
   "cell_type": "code",
   "execution_count": 26,
   "metadata": {},
   "outputs": [
    {
     "data": {
      "text/plain": [
       "39"
      ]
     },
     "execution_count": 26,
     "metadata": {},
     "output_type": "execute_result"
    }
   ],
   "source": [
    "csf_ub = int(np.ceil((len(time) - frame_len) / shift))\n",
    "csf_ub"
   ]
  },
  {
   "cell_type": "code",
   "execution_count": 27,
   "metadata": {
    "scrolled": false
   },
   "outputs": [
    {
     "data": {
      "image/png": "[encoded data removed]",
      "text/plain": [
       "<Figure size 864x432 with 1 Axes>"
      ]
     },
     "metadata": {
      "needs_background": "light"
     },
     "output_type": "display_data"
    }
   ],
   "source": [
    "fig = plt.figure(figsize=(12,6))\n",
    "time_1 = time[0:frame_len]\n",
    "signal_1 = filtered[0:frame_len]\n",
    "plt.plot(time_1, signal_1)\n",
    "plt.ticklabel_format(useOffset=False)\n",
    "plt.show()"
   ]
  },
  {
   "cell_type": "code",
   "execution_count": 28,
   "metadata": {},
   "outputs": [
    {
     "data": {
      "image/png": "[encoded data removed]",
      "text/plain": [
       "<Figure size 864x432 with 1 Axes>"
      ]
     },
     "metadata": {
      "needs_background": "light"
     },
     "output_type": "display_data"
    }
   ],
   "source": [
    "curr_shift_factor = 16\n",
    "#curr_shift_factor = 5\n",
    "\n",
    "fig = plt.figure(figsize=(12,6))\n",
    "time_6 = time[0 + (curr_shift_factor*shift) : frame_len + (curr_shift_factor*shift)]\n",
    "signal_6 = filtered[0 + (curr_shift_factor*shift) : frame_len + (curr_shift_factor*shift)]\n",
    "plt.plot(time_6, signal_6)\n",
    "plt.ticklabel_format(useOffset=False)\n",
    "plt.show()"
   ]
  },
  {
   "cell_type": "code",
   "execution_count": 29,
   "metadata": {},
   "outputs": [
    {
     "data": {
      "image/png": "[encoded data removed]",
      "text/plain": [
       "<Figure size 432x288 with 1 Axes>"
      ]
     },
     "metadata": {
      "needs_background": "light"
     },
     "output_type": "display_data"
    }
   ],
   "source": [
    "time_6 = time[0 + (curr_shift_factor*shift) : frame_len + (curr_shift_factor*shift)]\n",
    "delta_window = delta[0 + (curr_shift_factor*shift) : frame_len + (curr_shift_factor*shift)]\n",
    "plt.plot(time_6, delta_window)\n",
    "plt.show()"
   ]
  },
  {
   "cell_type": "code",
   "execution_count": 30,
   "metadata": {},
   "outputs": [
    {
     "data": {
      "image/png": "[encoded data removed]",
      "text/plain": [
       "<Figure size 432x288 with 1 Axes>"
      ]
     },
     "metadata": {
      "needs_background": "light"
     },
     "output_type": "display_data"
    }
   ],
   "source": [
    "time_6 = time[0 + (curr_shift_factor*shift) : frame_len + (curr_shift_factor*shift)]\n",
    "beta_window = beta[0 + (curr_shift_factor*shift) : frame_len + (curr_shift_factor*shift)]\n",
    "plt.plot(time_6, beta_window)\n",
    "plt.show()"
   ]
  },
  {
   "cell_type": "markdown",
   "metadata": {},
   "source": [
    "<h2>Frame Matching With Scorer Annotations</h2>"
   ]
  },
  {
   "cell_type": "markdown",
   "metadata": {},
   "source": [
    "<h3>Intersection Between Scorer 1 & 2 Annotations</h3>"
   ]
  },
  {
   "cell_type": "code",
   "execution_count": 31,
   "metadata": {
    "scrolled": true
   },
   "outputs": [
    {
     "data": {
      "text/html": [
       "<div>\n",
       "<style scoped>\n",
       "    .dataframe tbody tr th:only-of-type {\n",
       "        vertical-align: middle;\n",
       "    }\n",
       "\n",
       "    .dataframe tbody tr th {\n",
       "        vertical-align: top;\n",
       "    }\n",
       "\n",
       "    .dataframe thead th {\n",
       "        text-align: right;\n",
       "    }\n",
       "</style>\n",
       "<table border=\"1\" class=\"dataframe\">\n",
       "  <thead>\n",
       "    <tr style=\"text-align: right;\">\n",
       "      <th></th>\n",
       "      <th>start</th>\n",
       "      <th>duration</th>\n",
       "      <th>end</th>\n",
       "    </tr>\n",
       "  </thead>\n",
       "  <tbody>\n",
       "    <tr>\n",
       "      <td>0</td>\n",
       "      <td>905.642463</td>\n",
       "      <td>0.837840</td>\n",
       "      <td>906.480303</td>\n",
       "    </tr>\n",
       "    <tr>\n",
       "      <td>1</td>\n",
       "      <td>917.432942</td>\n",
       "      <td>1.312416</td>\n",
       "      <td>918.745359</td>\n",
       "    </tr>\n",
       "    <tr>\n",
       "      <td>2</td>\n",
       "      <td>949.362705</td>\n",
       "      <td>0.777293</td>\n",
       "      <td>950.139999</td>\n",
       "    </tr>\n",
       "    <tr>\n",
       "      <td>3</td>\n",
       "      <td>968.654275</td>\n",
       "      <td>1.156180</td>\n",
       "      <td>969.810455</td>\n",
       "    </tr>\n",
       "    <tr>\n",
       "      <td>4</td>\n",
       "      <td>978.624430</td>\n",
       "      <td>0.785106</td>\n",
       "      <td>979.409536</td>\n",
       "    </tr>\n",
       "  </tbody>\n",
       "</table>\n",
       "</div>"
      ],
      "text/plain": [
       "        start  duration         end\n",
       "0  905.642463  0.837840  906.480303\n",
       "1  917.432942  1.312416  918.745359\n",
       "2  949.362705  0.777293  950.139999\n",
       "3  968.654275  1.156180  969.810455\n",
       "4  978.624430  0.785106  979.409536"
      ]
     },
     "execution_count": 31,
     "metadata": {},
     "output_type": "execute_result"
    }
   ],
   "source": [
    "scorer_1 = path + \"\\\\\" + scorer_annot_1\n",
    "s1_df = pd.read_csv(scorer_1)\n",
    "s1_df.columns = ['start', 'duration']\n",
    "s1_df['end'] = s1_df['start'] + s1_df['duration']\n",
    "\n",
    "# Make a temporary column for the start times rounded to the nearest integer:\n",
    "s1_df['start_floor'] = s1_df['start'].astype('int32')\n",
    "\n",
    "scorer_2 = path + \"\\\\\" + scorer_annot_2\n",
    "s2_df = pd.read_csv(scorer_2)\n",
    "s2_df.columns = ['start', 'duration']\n",
    "s2_df['end'] = s2_df['start'] + s2_df['duration']\n",
    "\n",
    "# Make a temporary column for the start times rounded to the nearest integer:\n",
    "s2_df['start_floor'] = s2_df['start'].astype('int32')\n",
    "\n",
    "# Get the 'inner join' of the two scorers' dataframes in order to get the ground truth.\n",
    "scorer_inner = pd.merge(s1_df, s2_df, how='inner', on=['start_floor'])\n",
    "scorer_inner.head()\n",
    "\n",
    "# Take the mean of the start (onset) tie, duration of the spindle and the end time for each scorer:\n",
    "scorer_final = pd.DataFrame()\n",
    "scorer_final['start'] = (scorer_inner['start_x'] + scorer_inner['start_y']) / 2\n",
    "scorer_final['duration'] = (scorer_inner['duration_x'] + scorer_inner['duration_y']) / 2\n",
    "scorer_final['end'] = (scorer_inner['end_x'] + scorer_inner['end_y']) / 2\n",
    "\n",
    "scorer_final.head()"
   ]
  },
  {
   "cell_type": "code",
   "execution_count": 32,
   "metadata": {},
   "outputs": [
    {
     "data": {
      "text/html": [
       "<div>\n",
       "<style scoped>\n",
       "    .dataframe tbody tr th:only-of-type {\n",
       "        vertical-align: middle;\n",
       "    }\n",
       "\n",
       "    .dataframe tbody tr th {\n",
       "        vertical-align: top;\n",
       "    }\n",
       "\n",
       "    .dataframe thead th {\n",
       "        text-align: right;\n",
       "    }\n",
       "</style>\n",
       "<table border=\"1\" class=\"dataframe\">\n",
       "  <thead>\n",
       "    <tr style=\"text-align: right;\">\n",
       "      <th></th>\n",
       "      <th>start</th>\n",
       "      <th>duration</th>\n",
       "      <th>end</th>\n",
       "    </tr>\n",
       "  </thead>\n",
       "  <tbody>\n",
       "    <tr>\n",
       "      <td>0</td>\n",
       "      <td>905.642463</td>\n",
       "      <td>0.837840</td>\n",
       "      <td>906.480303</td>\n",
       "    </tr>\n",
       "    <tr>\n",
       "      <td>1</td>\n",
       "      <td>917.432942</td>\n",
       "      <td>1.312416</td>\n",
       "      <td>918.745359</td>\n",
       "    </tr>\n",
       "    <tr>\n",
       "      <td>2</td>\n",
       "      <td>949.362705</td>\n",
       "      <td>0.777293</td>\n",
       "      <td>950.139999</td>\n",
       "    </tr>\n",
       "    <tr>\n",
       "      <td>3</td>\n",
       "      <td>968.654275</td>\n",
       "      <td>1.156180</td>\n",
       "      <td>969.810455</td>\n",
       "    </tr>\n",
       "    <tr>\n",
       "      <td>4</td>\n",
       "      <td>978.624430</td>\n",
       "      <td>0.785106</td>\n",
       "      <td>979.409536</td>\n",
       "    </tr>\n",
       "    <tr>\n",
       "      <td>...</td>\n",
       "      <td>...</td>\n",
       "      <td>...</td>\n",
       "      <td>...</td>\n",
       "    </tr>\n",
       "    <tr>\n",
       "      <td>2281</td>\n",
       "      <td>28027.610380</td>\n",
       "      <td>0.921814</td>\n",
       "      <td>28028.532194</td>\n",
       "    </tr>\n",
       "    <tr>\n",
       "      <td>2282</td>\n",
       "      <td>28036.312985</td>\n",
       "      <td>1.185472</td>\n",
       "      <td>28037.498457</td>\n",
       "    </tr>\n",
       "    <tr>\n",
       "      <td>2283</td>\n",
       "      <td>28184.495795</td>\n",
       "      <td>0.947205</td>\n",
       "      <td>28185.443000</td>\n",
       "    </tr>\n",
       "    <tr>\n",
       "      <td>2284</td>\n",
       "      <td>28449.349115</td>\n",
       "      <td>0.831979</td>\n",
       "      <td>28450.181094</td>\n",
       "    </tr>\n",
       "    <tr>\n",
       "      <td>2285</td>\n",
       "      <td>28622.752780</td>\n",
       "      <td>1.138600</td>\n",
       "      <td>28623.891380</td>\n",
       "    </tr>\n",
       "  </tbody>\n",
       "</table>\n",
       "<p>2286 rows × 3 columns</p>\n",
       "</div>"
      ],
      "text/plain": [
       "             start  duration           end\n",
       "0       905.642463  0.837840    906.480303\n",
       "1       917.432942  1.312416    918.745359\n",
       "2       949.362705  0.777293    950.139999\n",
       "3       968.654275  1.156180    969.810455\n",
       "4       978.624430  0.785106    979.409536\n",
       "...            ...       ...           ...\n",
       "2281  28027.610380  0.921814  28028.532194\n",
       "2282  28036.312985  1.185472  28037.498457\n",
       "2283  28184.495795  0.947205  28185.443000\n",
       "2284  28449.349115  0.831979  28450.181094\n",
       "2285  28622.752780  1.138600  28623.891380\n",
       "\n",
       "[2286 rows x 3 columns]"
      ]
     },
     "execution_count": 32,
     "metadata": {},
     "output_type": "execute_result"
    }
   ],
   "source": [
    "tmp = pd.DataFrame()\n",
    "for col in scorer_final.columns:\n",
    "    tmp[col] = scorer_final[col]\n",
    "    \n",
    "tmp2 = pd.DataFrame()\n",
    "for col in scorer_final.columns:\n",
    "    tmp2[col] = scorer_final[col]\n",
    "    \n",
    "tmp_final = pd.concat([tmp, tmp2], axis=0).reset_index(drop=True)\n",
    "tmp_final = pd.concat([tmp_final, tmp2], axis=0).reset_index(drop=True)\n",
    "\n",
    "tmp_final"
   ]
  },
  {
   "cell_type": "markdown",
   "metadata": {},
   "source": [
    "We want to see if the frames coincide with any of the start times in the intersection of the scorer's annotations. We'll use the very last frame we plottted to check if this is true. We are looking for the <i>start time</i> of the spindle to fall within the frame. \n",
    "\n",
    "If we treat the frame as a moving window, we'll manually classify the frame as a spindle if the annotation lies not only in the frame but if the window has moved more than 50% past the annotation itself. Let's see this in action."
   ]
  },
  {
   "cell_type": "code",
   "execution_count": 33,
   "metadata": {
    "scrolled": true
   },
   "outputs": [
    {
     "data": {
      "text/html": [
       "<div>\n",
       "<style scoped>\n",
       "    .dataframe tbody tr th:only-of-type {\n",
       "        vertical-align: middle;\n",
       "    }\n",
       "\n",
       "    .dataframe tbody tr th {\n",
       "        vertical-align: top;\n",
       "    }\n",
       "\n",
       "    .dataframe thead th {\n",
       "        text-align: right;\n",
       "    }\n",
       "</style>\n",
       "<table border=\"1\" class=\"dataframe\">\n",
       "  <thead>\n",
       "    <tr style=\"text-align: right;\">\n",
       "      <th></th>\n",
       "      <th>start</th>\n",
       "      <th>duration</th>\n",
       "      <th>end</th>\n",
       "    </tr>\n",
       "  </thead>\n",
       "  <tbody>\n",
       "    <tr>\n",
       "      <td>18</td>\n",
       "      <td>4207.885096</td>\n",
       "      <td>0.880803</td>\n",
       "      <td>4208.765899</td>\n",
       "    </tr>\n",
       "  </tbody>\n",
       "</table>\n",
       "</div>"
      ],
      "text/plain": [
       "          start  duration          end\n",
       "18  4207.885096  0.880803  4208.765899"
      ]
     },
     "execution_count": 33,
     "metadata": {},
     "output_type": "execute_result"
    }
   ],
   "source": [
    "# Take the time-vector from frame 6 and check if any of the spindle onset times fall in the time-vector:\n",
    "condition = (scorer_final['start'] > min(time_6)) & (scorer_final['start'] < max(time_6))\n",
    "\n",
    "# If this is true, we should see a particular spindle extracted from the annotations:\n",
    "fall_in = scorer_final[condition]\n",
    "fall_in"
   ]
  },
  {
   "cell_type": "code",
   "execution_count": 34,
   "metadata": {},
   "outputs": [
    {
     "data": {
      "text/plain": [
       "Index(['start', 'duration', 'end'], dtype='object')"
      ]
     },
     "execution_count": 34,
     "metadata": {},
     "output_type": "execute_result"
    }
   ],
   "source": [
    "fall_in.columns"
   ]
  },
  {
   "cell_type": "code",
   "execution_count": 35,
   "metadata": {},
   "outputs": [
    {
     "data": {
      "text/plain": [
       "1"
      ]
     },
     "execution_count": 35,
     "metadata": {},
     "output_type": "execute_result"
    }
   ],
   "source": [
    "#len(fall_in['start'].astype(float))\n",
    "len(fall_in)"
   ]
  },
  {
   "cell_type": "markdown",
   "metadata": {},
   "source": [
    "An annotation has so happened to be in the 1.0 second frame that we captured from the epoch. Let's plot the onset on the same plot as the frame itself to see if our moving frame/window has succeed in capturing $\\geq 50%$ of the spindle after the annotation onset."
   ]
  },
  {
   "cell_type": "code",
   "execution_count": 37,
   "metadata": {},
   "outputs": [
    {
     "data": {
      "image/png": "[encoded data removed]",
      "text/plain": [
       "<Figure size 864x432 with 1 Axes>"
      ]
     },
     "metadata": {
      "needs_background": "light"
     },
     "output_type": "display_data"
    }
   ],
   "source": [
    "fig = plt.figure(figsize=(12,6))\n",
    "plt.plot(time_6, signal_6)\n",
    "plt.axvline(float(fall_in['start']), color='red', label='Spindle Onset')\n",
    "plt.axvline(float(fall_in['end']), color='blue', label='Spindle End')\n",
    "plt.axvspan(float(fall_in['start']), float(fall_in['end']), color='red', alpha=0.15)\n",
    "plt.legend()\n",
    "plt.show()"
   ]
  },
  {
   "cell_type": "markdown",
   "metadata": {},
   "source": [
    "The above plot shows that our frame has captured a spindle and has moved more than 100ms (0.5 seconds) from the onset of the spindle annotation (marked in red). Since the frame is confidently sitting on top of an expertly scored spindle, we are free to classify the signal captured in this frame as a <b>spindle</b>. We'll check if that has been achieved for this particular scenario."
   ]
  },
  {
   "cell_type": "code",
   "execution_count": 24,
   "metadata": {},
   "outputs": [],
   "source": [
    "if (len(fall_in) == 0):\n",
    "    s_or_ns = 0\n",
    "else:\n",
    "    # Check if the window has elapsed more than 50% of the window duration past the onset:\n",
    "    elapsed = max(time_6) - fall_in['start']\n",
    "    elapsed_percentage = float((((elapsed / Tw))) * 100)\n",
    "    s_or_ns = 0\n",
    "    if (elapsed_percentage >= 50.0):\n",
    "        s_or_ns = 1\n",
    "    else: \n",
    "        s_or_ns = 0\n",
    "    print(\"Percentage Time Frame Elapsed After Onset = {}\".format(elapsed_percentage))\n",
    "    print(\"Label For Frame = {}\".format(s_or_ns))\n"
   ]
  },
  {
   "cell_type": "markdown",
   "metadata": {},
   "source": [
    "At this point, we are ready to take this spindle and derive a QPS that best fits this particular spindle. Using NLLS via ```lmfit```, we initialise the NLLS algorithm with the parameters and the model. Running the NLLS algorithm will perform the fitting and will produce the optimal QPS parameters for the fitted QPS. "
   ]
  },
  {
   "cell_type": "code",
   "execution_count": null,
   "metadata": {},
   "outputs": [],
   "source": [
    "from lmfit import Parameters, minimize\n",
    "\n",
    "tmp = len(time_6)\n",
    "sampling_rate = raw.info['sfreq']\n",
    "t = np.arange(-tmp/(2*sampling_rate), (tmp-1)/(2*sampling_rate), 1/sampling_rate)\n",
    "\n",
    "def residual(params, t, data):\n",
    "\ta, b, c = params['a'], params['b'], params['c']\n",
    "\td, e, f = params['d'], params['e'], params['f']\n",
    "\tmodel = np.exp(a + b*t + c*t**2) * np.cos(d + e*t + f*t**2)\n",
    "\tchi = (data - model)\n",
    "\treturn chi\n",
    "\n",
    "a = 2.592191\n",
    "b = 2.905482\n",
    "c = -14.240023\n",
    "d = 0.002717\n",
    "e = 84.660186\n",
    "f = -1.424085\n",
    "\n",
    "params = Parameters()\n",
    "params.add('a', value=a)\n",
    "params.add('b', value=b)\n",
    "params.add('c', value=c)\n",
    "params.add('d', value=d)\n",
    "params.add('e', value=e)\n",
    "params.add('f', value=f)\n",
    "    \n",
    "out = minimize(residual, params, args=(t, signal_6))\n",
    "\n",
    "# We now need to gather all the parameter values from the 'out' return from the minimize function\n",
    "dict_params = {'a':0, 'b':0, 'c':0, 'd':0, 'e':0, 'f':0}\n",
    "list_params = ['a','b','c','d','e','f']\n",
    "\n",
    "for param in list_params:\n",
    "    dict_params[param] = out.params[param].value\n",
    "    \n",
    "a, b, c = dict_params[\"a\"], dict_params[\"b\"], dict_params[\"c\"]\n",
    "d, e, f = dict_params[\"d\"], dict_params[\"e\"], dict_params[\"f\"]\n",
    "qps = np.exp(a + b*t + c*t**2) * np.cos(d + e*t + f*t**2)"
   ]
  },
  {
   "cell_type": "code",
   "execution_count": null,
   "metadata": {},
   "outputs": [],
   "source": [
    "fig, ax = plt.subplots(figsize=(12,6))\n",
    "ax.plot(time_6, signal_6)\n",
    "ax.plot(time_6, qps)\n",
    "#ax.plot(time_6, qps-signal_6)\n",
    "plt.show()"
   ]
  },
  {
   "cell_type": "code",
   "execution_count": null,
   "metadata": {},
   "outputs": [],
   "source": [
    "import lmfit\n",
    "print(lmfit.__version__)"
   ]
  },
  {
   "cell_type": "code",
   "execution_count": null,
   "metadata": {},
   "outputs": [],
   "source": [
    "from scipy.fftpack import fft, fftfreq, fftshift\n",
    "from scipy.signal.windows import hann\n",
    "\n",
    "window = hann(len(signal_6))\n",
    "fft_raw = fftshift(2/len(signal_6) * np.abs(fft(signal_6 * window)))\n",
    "fft_raw_x = fftshift(fftfreq(len(signal_6), d = 1/sampling_rate))\n",
    "fft_qps = fftshift(2/len(qps) * np.abs(fft(qps*window)))\n",
    "\n",
    "fig, ax = plt.subplots(figsize=(12,6))\n",
    "ax.set_title(\"Frequency Spectrum Of Raw Signal and QPS\", fontweight='bold', fontsize=16)\n",
    "ax.set_ylabel(\"Amplitude\", labelpad=15)\n",
    "ax.set_xlabel(\"Frequency (Hz)\", labelpad=15)\n",
    "ax.plot(fft_raw_x, fft_raw, label='Raw Signal')\n",
    "ax.plot(fft_raw_x, fft_qps, label='Fitted QPS')\n",
    "ax.set_xlim([0,max(fft_raw_x)])\n",
    "plt.legend()\n",
    "plt.show()"
   ]
  },
  {
   "cell_type": "markdown",
   "metadata": {},
   "source": [
    "<h2>Envelope Energy</h2>\n",
    "\n",
    "Perhaps the energy content of the envelope of the QPS might be a feature that could be used to separate spindles from non-spindles. Recall the equation for the QPS again:\n",
    "\n",
    "\\begin{equation}\n",
    "    s(t) = A(t) \\cdot cos(d + et + ft^2)\n",
    "\\end{equation}\n",
    "\n",
    "The Hilbert transform allows us to get $A(t)$ independent of the carrier component with which we can compute the power of. If the envelope is discrete, then the envelope power can be computed as:\n",
    "\n",
    "\\begin{equation}\n",
    "    E_{env} = \\sum_{n=0}^{N-1} |A[n]|^2\n",
    "\\end{equation}\n",
    "\n",
    "A non-spindle is more likely to have an envelope that does not exhibit the rising and decaying shape of a spindle envelope. That is, a non-spindle envelope is more likely to have a low-amplitude than an envelope of a spindle."
   ]
  },
  {
   "cell_type": "code",
   "execution_count": null,
   "metadata": {},
   "outputs": [],
   "source": [
    "# Get the envelope of the computed (fitted) QPS.\n",
    "from scipy.signal import hilbert\n",
    "qps_env = abs(hilbert(qps))\n",
    "\n",
    "# Compute the energy of the fitted QPS\n",
    "qps_env_energy = np.sum(np.square(qps_env))\n",
    "\n",
    "# Print out the energy value.\n",
    "print(\"QPS Envelope Energy = {} uV^2\".format(qps_env_energy))"
   ]
  },
  {
   "cell_type": "markdown",
   "metadata": {},
   "source": [
    "<h2>Spindle-to-(Delta + Beta) Energy Ratio</h2>"
   ]
  },
  {
   "cell_type": "code",
   "execution_count": null,
   "metadata": {},
   "outputs": [],
   "source": [
    "delta_energy = 1/len(delta_window) * np.sum(np.square(delta_window))\n",
    "beta_energy = 1/len(beta_window) * np.sum(np.square(beta_window))\n",
    "qps_energy = 1/len(qps) * np.sum(np.square(qps))\n",
    "\n",
    "# Compute the ratio and add result to the dataframe.\n",
    "spectral_energy_ratio = qps_energy / (delta_energy + beta_energy)\n",
    "print(delta_energy)\n",
    "print(beta_energy)\n",
    "print(qps_energy)\n",
    "print(spectral_energy_ratio)"
   ]
  },
  {
   "cell_type": "code",
   "execution_count": null,
   "metadata": {},
   "outputs": [],
   "source": []
  }
 ],
 "metadata": {
  "hide_input": false,
  "kernelspec": {
   "display_name": "Python 3",
   "language": "python",
   "name": "python3"
  },
  "language_info": {
   "codemirror_mode": {
    "name": "ipython",
    "version": 3
   },
   "file_extension": ".py",
   "mimetype": "text/x-python",
   "name": "python",
   "nbconvert_exporter": "python",
   "pygments_lexer": "ipython3",
   "version": "3.7.3"
  },
  "toc": {
   "base_numbering": 1,
   "nav_menu": {},
   "number_sections": true,
   "sideBar": true,
   "skip_h1_title": false,
   "title_cell": "Table of Contents",
   "title_sidebar": "Contents",
   "toc_cell": false,
   "toc_position": {},
   "toc_section_display": true,
   "toc_window_display": false
  }
 },
 "nbformat": 4,
 "nbformat_minor": 2
}
